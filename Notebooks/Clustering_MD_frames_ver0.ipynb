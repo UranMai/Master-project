{
  "nbformat": 4,
  "nbformat_minor": 0,
  "metadata": {
    "colab": {
      "name": "Clustering MD_frames_ver0",
      "provenance": [],
      "collapsed_sections": []
    },
    "kernelspec": {
      "name": "python3",
      "display_name": "Python 3"
    }
  },
  "cells": [
    {
      "cell_type": "code",
      "metadata": {
        "id": "C_DPrD7q-qls"
      },
      "source": [
        "!pip install --upgrade pip\n",
        "!pip install --upgrade MDAnalysis\n",
        "!pip install --upgrade MDAnalysisTests\n",
        "!pip install python-igraph"
      ],
      "execution_count": null,
      "outputs": []
    },
    {
      "cell_type": "code",
      "metadata": {
        "id": "S9pzDed_-uMc"
      },
      "source": [
        "import MDAnalysis as mda\n",
        "import numpy as np\n",
        "import string, time\n",
        "import sys, os, re\n",
        "import warnings\n",
        "warnings.filterwarnings(\"ignore\", category=DeprecationWarning)\n",
        "warnings.filterwarnings(\"ignore\", category=UserWarning)\n",
        "\n",
        "# import subprocess\n",
        "from MDAnalysis.analysis.hbonds import HydrogenBondAnalysis as hbonds\n",
        "from MDAnalysis.lib.distances import calc_bonds as MDdist3D\n",
        "from MDAnalysis.lib.distances import capped_distance\n",
        "import MDAnalysis.lib.mdamath as MDAmath\n",
        "\n",
        "from pdb_class_main1 import *\n",
        "import parameters as prs \n",
        "import igraph"
      ],
      "execution_count": 21,
      "outputs": []
    },
    {
      "cell_type": "markdown",
      "metadata": {
        "id": "fWxUNzyO_9KJ"
      },
      "source": [
        "# Main\n",
        "\n",
        "Files needed to prepare net file is phi file and pdb file\\\n",
        "For calculate scores need terminalAtoms, uniqueAtoms files"
      ]
    },
    {
      "cell_type": "code",
      "metadata": {
        "id": "pKdesxJg_b0-",
        "colab": {
          "base_uri": "https://localhost:8080/"
        },
        "outputId": "335d1419-ec7a-48b1-85f4-2d6f54800cab"
      },
      "source": [
        "from MDAnalysis.tests.datafiles import PDB, XTC\n",
        "u = mda.Universe(PDB, XTC)\n",
        "\n",
        "# Create dictionary of frames and their coordinates\n",
        "dict_frames = {}\n",
        "for ts in u.trajectory:\n",
        "    atoms = u.select_atoms('all')\n",
        "    coordinates = atoms.positions\n",
        "    dict_frames[ts.frame] = coordinates\n",
        "\n",
        "file1 = 'adk_oplsaa.pdb' # it's imported mda PDB file\n",
        "phifile = file1.replace('.pdb', '.phi') # download phi file\n",
        "\n",
        "# Prepare secStructure, RSA, BFactor files\n",
        "prepare_secondary_structure_file(file1, phifile)\n",
        "prepare_rsa_file(file1, phifile)\n",
        "prepare_bfactor_file(file1, u)\n",
        "cmd = \"sed -i 's/SYSTEM/-/g' {}_Bfactor\".format(file1.replace('.pdb', ''))\n",
        "os.system(cmd)"
      ],
      "execution_count": 14,
      "outputs": [
        {
          "output_type": "execute_result",
          "data": {
            "text/plain": [
              "0"
            ]
          },
          "metadata": {
            "tags": []
          },
          "execution_count": 14
        }
      ]
    },
    {
      "cell_type": "code",
      "metadata": {
        "id": "2kDsn1icMcrS"
      },
      "source": [
        "def create_net_files(ts):\n",
        "    '''\n",
        "    ts - time step of mda trajectories\n",
        "    for each ts we run whole processing creating net file\n",
        "    '''\n",
        "    file1 = f'adk_{ts}.pdb'\n",
        "    u = mda.Universe(PDB, dict_frames[ts])\n",
        "    u1 = u.select_atoms('protein') \n",
        "\n",
        "    u1_atoms = u1.atoms\n",
        "    u1_resnames, u1_resids, u1_segids, u1_names = u1_atoms.resnames, u1_atoms.resids, u1_atoms.segids, u1_atoms.names\n",
        "\n",
        "    residues = [(i+':'+str(j)+':'+k) for i, j, k in zip(u1_atoms.resnames, u1_atoms.resids, u1_segids)]\n",
        "    coords = {res+':'+atom : pos for res, atom, pos in zip(residues, u1_names, u1.atoms.positions)}\n",
        "    chain = {} \n",
        "    for res, atom in zip(residues, u1_names):\n",
        "        if atom in [\"N\",\"O\",\"C\",\"CA\",\"HA2\",\"HA3\"]:\n",
        "            if res[0:3] == 'GLY' and atom in [\"O\",\"CA\",\"HA2\",\"HA3\",\"N\",\"NH\"]:\n",
        "                chain[res+':'+atom] = 'SC'\n",
        "            else:\n",
        "                chain[res+':'+atom] = 'MC'\n",
        "        else:\n",
        "            chain[res+':'+atom] = 'SC'\n",
        "\n",
        "    acids_class = [AminoAcid(res) for res in u1.residues]\n",
        "\n",
        "    \n",
        "    # Writing files for PIPI,PICation, SB, Disulfide bonds\n",
        "    net = open(file1.replace('.pdb', '_bonds'), 'w')\n",
        "    for i in range(len(acids_class)):\n",
        "        for j in range(i+1, len(acids_class)):\n",
        "            bonds = find_pipi_bonds(acids_class[i], acids_class[j])\n",
        "            if bonds: \n",
        "                for bond in bonds:\n",
        "                    net.write(bond)\n",
        "            bonds = find_pication_bonds(acids_class[i], acids_class[j])\n",
        "            if bonds: \n",
        "                for bond in bonds:\n",
        "                    net.write(bond)\n",
        "            # saltBrdiges = []\n",
        "            bonds = find_salt_bridges(acids_class[i], acids_class[j])\n",
        "            if bonds: \n",
        "                for bond in bonds:\n",
        "                    net.write(bond)\n",
        "            bonds = find_disulfide_bonds(acids_class[i], acids_class[j])\n",
        "            if bonds: \n",
        "                for bond in bonds:\n",
        "                    net.write(bond)\n",
        "    net.close()\n",
        "\n",
        "    # Find hydrogen bonds\n",
        "    h = hbonds(u, selection1='protein', selection2= 'protein', distance=2.5, distance_type='hydrogen', angle=120) \n",
        "    h.run()\n",
        "    h.generate_table() \n",
        "    find_hydrogen_bonds(h, file1, u1_segids, coords, chain)\n",
        "\n",
        "    # Find vanderWaals bonds\n",
        "    vdw_coords = u1.atoms.positions\n",
        "    pairs, distances = mda.lib.distances.capped_distance(vdw_coords, vdw_coords, max_cutoff=4.25, min_cutoff=0)\n",
        "    find_vdw_bonds(pairs, file1, u1_resnames, u1_names, u1_resids, u1_segids, chain, coords)\n",
        "    # this function uses for appropriate writing into file\n",
        "    VandWaals_awk_replacement(file1.replace('.pdb','')+'_vdw')\n",
        "    VandWaals_awk_replacement(file1.replace('.pdb','')+'_vdw2')\n",
        "\n",
        "    # Find metal bonds\n",
        "    select_metalls = 'resname {}'.format(' '.join(list(prs.metals)))\n",
        "    metalls = u.select_atoms(select_metalls)\n",
        "    find_metal_bonds(file1, metalls, acids_class)\n",
        "\n",
        "    # Concatenate created files into one \n",
        "    pdb = file1.replace('.pdb', '')\n",
        "    cmd = f'cat {pdb}_bonds {pdb}_hb {pdb}_vdw_noRepulse {pdb}_vdw_noRepulse2 {pdb}_metal > {pdb}_net'\n",
        "    os.system(cmd) \n",
        "\n",
        "    # Delete unneccessary files\n",
        "    cmd = f'rm {pdb}_bonds {pdb}_hb {pdb}_vdw_noRepulse {pdb}_vdw_noRepulse2 {pdb}_metal {pdb}_vdw {pdb}_vdw2'\n",
        "    os.system(cmd)"
      ],
      "execution_count": 19,
      "outputs": []
    },
    {
      "cell_type": "code",
      "metadata": {
        "id": "sD6RT5dCVLbn"
      },
      "source": [
        "# For each time step run the function to create total NET file\n",
        "for ts in dict_frames.keys():\n",
        "    create_net_files(ts)\n",
        "    cmd = \"sed -i 's/SYSTEM/-/g' adk_{}_net\".format(ts)\n",
        "    os.system(cmd)\n"
      ],
      "execution_count": 22,
      "outputs": []
    },
    {
      "cell_type": "code",
      "metadata": {
        "colab": {
          "base_uri": "https://localhost:8080/"
        },
        "id": "Ah_FLXGUoRmn",
        "outputId": "691a6be9-e241-4139-b52e-81dd486b4d98"
      },
      "source": [
        "# to run need terminalAtoms file\n",
        "for ts in dict_frames.keys():\n",
        "    cmd = \"python energetics_main.py adk_oplsaa.pdb adk_{}\".format(ts)\n",
        "    print(cmd)\n",
        "    os.system(cmd)"
      ],
      "execution_count": 23,
      "outputs": [
        {
          "output_type": "stream",
          "text": [
            "python energetics_main.py adk_oplsaa.pdb adk_0\n",
            "python energetics_main.py adk_oplsaa.pdb adk_1\n",
            "python energetics_main.py adk_oplsaa.pdb adk_2\n",
            "python energetics_main.py adk_oplsaa.pdb adk_3\n",
            "python energetics_main.py adk_oplsaa.pdb adk_4\n",
            "python energetics_main.py adk_oplsaa.pdb adk_5\n",
            "python energetics_main.py adk_oplsaa.pdb adk_6\n",
            "python energetics_main.py adk_oplsaa.pdb adk_7\n",
            "python energetics_main.py adk_oplsaa.pdb adk_8\n",
            "python energetics_main.py adk_oplsaa.pdb adk_9\n"
          ],
          "name": "stdout"
        }
      ]
    },
    {
      "cell_type": "code",
      "metadata": {
        "colab": {
          "base_uri": "https://localhost:8080/"
        },
        "id": "rZVYyJl0rVdT",
        "outputId": "90c47b97-e5c2-491d-a996-06cb475a7e2c"
      },
      "source": [
        "# need uniqueAtoms file\n",
        "for ts in dict_frames.keys():\n",
        "    cmd = \"python centroid_main.py adk_oplsaa.pdb adk_{}\".format(ts)\n",
        "    print(cmd)\n",
        "    os.system(cmd)"
      ],
      "execution_count": 24,
      "outputs": [
        {
          "output_type": "stream",
          "text": [
            "python centroid_main.py adk_oplsaa.pdb adk_0\n",
            "python centroid_main.py adk_oplsaa.pdb adk_1\n",
            "python centroid_main.py adk_oplsaa.pdb adk_2\n",
            "python centroid_main.py adk_oplsaa.pdb adk_3\n",
            "python centroid_main.py adk_oplsaa.pdb adk_4\n",
            "python centroid_main.py adk_oplsaa.pdb adk_5\n",
            "python centroid_main.py adk_oplsaa.pdb adk_6\n",
            "python centroid_main.py adk_oplsaa.pdb adk_7\n",
            "python centroid_main.py adk_oplsaa.pdb adk_8\n",
            "python centroid_main.py adk_oplsaa.pdb adk_9\n"
          ],
          "name": "stdout"
        }
      ]
    },
    {
      "cell_type": "code",
      "metadata": {
        "id": "2_oZKzB2wCO7"
      },
      "source": [
        "# !zip -r /content/file.zip /content/"
      ],
      "execution_count": null,
      "outputs": []
    },
    {
      "cell_type": "code",
      "metadata": {
        "colab": {
          "base_uri": "https://localhost:8080/"
        },
        "id": "ru9SiJMfsC9d",
        "outputId": "5943f7d5-6054-49e0-9017-df036e0bb2fe"
      },
      "source": [
        "for ts in dict_frames.keys():\n",
        "    cmd = \"python finalscore.py adk_{}\".format(ts)\n",
        "    print(cmd)\n",
        "    os.system(cmd)"
      ],
      "execution_count": 25,
      "outputs": [
        {
          "output_type": "stream",
          "text": [
            "python finalscore.py adk_0\n",
            "python finalscore.py adk_1\n",
            "python finalscore.py adk_2\n",
            "python finalscore.py adk_3\n",
            "python finalscore.py adk_4\n",
            "python finalscore.py adk_5\n",
            "python finalscore.py adk_6\n",
            "python finalscore.py adk_7\n",
            "python finalscore.py adk_8\n",
            "python finalscore.py adk_9\n"
          ],
          "name": "stdout"
        }
      ]
    },
    {
      "cell_type": "code",
      "metadata": {
        "colab": {
          "base_uri": "https://localhost:8080/",
          "height": 277
        },
        "id": "pj_qfDgdG5tf",
        "outputId": "30ae2599-4826-4ced-b701-b9d05578995f"
      },
      "source": [
        "import pandas as pd\n",
        "df0 = pd.read_csv(f'adk_0_FinalSum', sep='\\t', header=None, names=['acid', 'score0'])\n",
        "\n",
        "for i in range(1, len(dict_frames)):\n",
        "    tmp_df = pd.read_csv(f'adk_{i}_FinalSum', sep='\\t', header=None, names=['acid', f'score{i}'])\n",
        "    df0 = pd.merge(df0, tmp_df, on='acid')\n",
        "\n",
        "df0.describe()"
      ],
      "execution_count": 26,
      "outputs": [
        {
          "output_type": "execute_result",
          "data": {
            "text/html": [
              "<div>\n",
              "<style scoped>\n",
              "    .dataframe tbody tr th:only-of-type {\n",
              "        vertical-align: middle;\n",
              "    }\n",
              "\n",
              "    .dataframe tbody tr th {\n",
              "        vertical-align: top;\n",
              "    }\n",
              "\n",
              "    .dataframe thead th {\n",
              "        text-align: right;\n",
              "    }\n",
              "</style>\n",
              "<table border=\"1\" class=\"dataframe\">\n",
              "  <thead>\n",
              "    <tr style=\"text-align: right;\">\n",
              "      <th></th>\n",
              "      <th>score0</th>\n",
              "      <th>score1</th>\n",
              "      <th>score2</th>\n",
              "      <th>score3</th>\n",
              "      <th>score4</th>\n",
              "      <th>score5</th>\n",
              "      <th>score6</th>\n",
              "      <th>score7</th>\n",
              "      <th>score8</th>\n",
              "      <th>score9</th>\n",
              "    </tr>\n",
              "  </thead>\n",
              "  <tbody>\n",
              "    <tr>\n",
              "      <th>count</th>\n",
              "      <td>188.000000</td>\n",
              "      <td>188.000000</td>\n",
              "      <td>188.000000</td>\n",
              "      <td>188.000000</td>\n",
              "      <td>188.000000</td>\n",
              "      <td>188.000000</td>\n",
              "      <td>188.000000</td>\n",
              "      <td>188.000000</td>\n",
              "      <td>188.000000</td>\n",
              "      <td>188.000000</td>\n",
              "    </tr>\n",
              "    <tr>\n",
              "      <th>mean</th>\n",
              "      <td>0.026821</td>\n",
              "      <td>0.016852</td>\n",
              "      <td>0.004394</td>\n",
              "      <td>0.021510</td>\n",
              "      <td>0.003523</td>\n",
              "      <td>0.003860</td>\n",
              "      <td>0.012133</td>\n",
              "      <td>0.015497</td>\n",
              "      <td>0.022365</td>\n",
              "      <td>0.017022</td>\n",
              "    </tr>\n",
              "    <tr>\n",
              "      <th>std</th>\n",
              "      <td>1.645621</td>\n",
              "      <td>1.560929</td>\n",
              "      <td>1.668387</td>\n",
              "      <td>1.755452</td>\n",
              "      <td>1.572900</td>\n",
              "      <td>1.570449</td>\n",
              "      <td>1.702687</td>\n",
              "      <td>1.660570</td>\n",
              "      <td>1.660456</td>\n",
              "      <td>1.721977</td>\n",
              "    </tr>\n",
              "    <tr>\n",
              "      <th>min</th>\n",
              "      <td>-0.605502</td>\n",
              "      <td>-0.504429</td>\n",
              "      <td>-0.773817</td>\n",
              "      <td>-0.676860</td>\n",
              "      <td>-0.661740</td>\n",
              "      <td>-0.616802</td>\n",
              "      <td>-0.645861</td>\n",
              "      <td>-0.687764</td>\n",
              "      <td>-0.696986</td>\n",
              "      <td>-0.698351</td>\n",
              "    </tr>\n",
              "    <tr>\n",
              "      <th>25%</th>\n",
              "      <td>-0.460890</td>\n",
              "      <td>-0.504429</td>\n",
              "      <td>-0.528706</td>\n",
              "      <td>-0.513689</td>\n",
              "      <td>-0.556095</td>\n",
              "      <td>-0.616802</td>\n",
              "      <td>-0.645861</td>\n",
              "      <td>-0.543610</td>\n",
              "      <td>-0.696986</td>\n",
              "      <td>-0.494134</td>\n",
              "    </tr>\n",
              "    <tr>\n",
              "      <th>50%</th>\n",
              "      <td>-0.460890</td>\n",
              "      <td>-0.504429</td>\n",
              "      <td>-0.528706</td>\n",
              "      <td>-0.513689</td>\n",
              "      <td>-0.556095</td>\n",
              "      <td>-0.616802</td>\n",
              "      <td>-0.645861</td>\n",
              "      <td>-0.543610</td>\n",
              "      <td>-0.696986</td>\n",
              "      <td>-0.494134</td>\n",
              "    </tr>\n",
              "    <tr>\n",
              "      <th>75%</th>\n",
              "      <td>-0.139458</td>\n",
              "      <td>-0.184399</td>\n",
              "      <td>-0.254119</td>\n",
              "      <td>-0.226964</td>\n",
              "      <td>-0.278324</td>\n",
              "      <td>-0.247650</td>\n",
              "      <td>-0.104406</td>\n",
              "      <td>-0.142300</td>\n",
              "      <td>-0.083258</td>\n",
              "      <td>-0.196966</td>\n",
              "    </tr>\n",
              "    <tr>\n",
              "      <th>max</th>\n",
              "      <td>13.508551</td>\n",
              "      <td>13.803225</td>\n",
              "      <td>12.867660</td>\n",
              "      <td>14.171404</td>\n",
              "      <td>10.105349</td>\n",
              "      <td>9.015890</td>\n",
              "      <td>13.365360</td>\n",
              "      <td>12.350453</td>\n",
              "      <td>11.006960</td>\n",
              "      <td>13.475687</td>\n",
              "    </tr>\n",
              "  </tbody>\n",
              "</table>\n",
              "</div>"
            ],
            "text/plain": [
              "           score0      score1      score2  ...      score7      score8      score9\n",
              "count  188.000000  188.000000  188.000000  ...  188.000000  188.000000  188.000000\n",
              "mean     0.026821    0.016852    0.004394  ...    0.015497    0.022365    0.017022\n",
              "std      1.645621    1.560929    1.668387  ...    1.660570    1.660456    1.721977\n",
              "min     -0.605502   -0.504429   -0.773817  ...   -0.687764   -0.696986   -0.698351\n",
              "25%     -0.460890   -0.504429   -0.528706  ...   -0.543610   -0.696986   -0.494134\n",
              "50%     -0.460890   -0.504429   -0.528706  ...   -0.543610   -0.696986   -0.494134\n",
              "75%     -0.139458   -0.184399   -0.254119  ...   -0.142300   -0.083258   -0.196966\n",
              "max     13.508551   13.803225   12.867660  ...   12.350453   11.006960   13.475687\n",
              "\n",
              "[8 rows x 10 columns]"
            ]
          },
          "metadata": {
            "tags": []
          },
          "execution_count": 26
        }
      ]
    },
    {
      "cell_type": "markdown",
      "metadata": {
        "id": "LDe6-NHcgNTO"
      },
      "source": [
        "# RMSD"
      ]
    },
    {
      "cell_type": "code",
      "metadata": {
        "colab": {
          "base_uri": "https://localhost:8080/"
        },
        "id": "a_jbRz5drgl9",
        "outputId": "6badde2c-5dba-48dc-9f1a-4dd53d3988ef"
      },
      "source": [
        "from MDAnalysis.analysis.rms import RMSD\n",
        "import matplotlib.pyplot as plt\n",
        "%matplotlib inline\n",
        "\n",
        "ref = mda.Universe(PDB, dict_frames[0])\n",
        "mobile = mda.Universe(PDB, XTC)\n",
        "\n",
        "R = RMSD(mobile, reference=ref, select='backbone')\n",
        "R.run()\n",
        "R.rmsd"
      ],
      "execution_count": 27,
      "outputs": [
        {
          "output_type": "execute_result",
          "data": {
            "text/plain": [
              "array([[0.00000000e+00, 0.00000000e+00, 6.39120343e-07],\n",
              "       [1.00000000e+00, 1.00000008e+02, 8.16775382e+00],\n",
              "       [2.00000000e+00, 2.00000015e+02, 6.10866973e+00],\n",
              "       [3.00000000e+00, 3.00000000e+02, 7.53671026e+00],\n",
              "       [4.00000000e+00, 4.00000031e+02, 7.29534342e+00],\n",
              "       [5.00000000e+00, 5.00000031e+02, 1.92514503e+01],\n",
              "       [6.00000000e+00, 6.00000000e+02, 1.64681023e+01],\n",
              "       [7.00000000e+00, 7.00000061e+02, 1.68066847e+01],\n",
              "       [8.00000000e+00, 8.00000061e+02, 1.84403093e+01],\n",
              "       [9.00000000e+00, 9.00000061e+02, 2.08395717e+01]])"
            ]
          },
          "metadata": {
            "tags": []
          },
          "execution_count": 27
        }
      ]
    },
    {
      "cell_type": "code",
      "metadata": {
        "colab": {
          "base_uri": "https://localhost:8080/",
          "height": 281
        },
        "id": "JVJn4VjUvXPx",
        "outputId": "48a29b90-0bcb-4868-82dd-c5c682ff1d21"
      },
      "source": [
        "rmsd = R.rmsd.T[2]  \n",
        "time = R.rmsd.T[1]\n",
        "fig = plt.figure(figsize=(4,4))\n",
        "ax = fig.add_subplot(111)\n",
        "ax.plot(time, rmsd,  label=\"all\")"
      ],
      "execution_count": 28,
      "outputs": [
        {
          "output_type": "execute_result",
          "data": {
            "text/plain": [
              "[<matplotlib.lines.Line2D at 0x7f72740c0c90>]"
            ]
          },
          "metadata": {
            "tags": []
          },
          "execution_count": 28
        },
        {
          "output_type": "display_data",
          "data": {
            "image/png": "[encoded data removed]",
            "text/plain": [
              "<Figure size 288x288 with 1 Axes>"
            ]
          },
          "metadata": {
            "tags": [],
            "needs_background": "light"
          }
        }
      ]
    },
    {
      "cell_type": "code",
      "metadata": {
        "colab": {
          "base_uri": "https://localhost:8080/"
        },
        "id": "6FO5B5X3Y6v1",
        "outputId": "c4e53f33-bc9a-49d4-803a-d4067649ff48"
      },
      "source": [
        "from sklearn.cluster import KMeans\n",
        "\n",
        "kmeans = KMeans(n_clusters=2, random_state=0).fit(rmsd.reshape(-1,1))\n",
        "kmeans.labels_"
      ],
      "execution_count": 86,
      "outputs": [
        {
          "output_type": "execute_result",
          "data": {
            "text/plain": [
              "array([0, 0, 0, 0, 0, 1, 1, 1, 1, 1], dtype=int32)"
            ]
          },
          "metadata": {
            "tags": []
          },
          "execution_count": 86
        }
      ]
    },
    {
      "cell_type": "code",
      "metadata": {
        "id": "GTvknPWcxbmC"
      },
      "source": [
        "# import scipy.cluster.hierarchy\n",
        "# from scipy.spatial.distance import squareform\n",
        "\n",
        "# reduced_distances = squareform(rmsd, checks=False)\n",
        "# linkage = scipy.cluster.hierarchy.linkage(reduced_distances, method='average')\n",
        "\n",
        "# plt.title('RMSD Average linkage hierarchical clustering')\n",
        "# _ = scipy.cluster.hierarchy.dendrogram(linkage, no_labels=True, count_sort='descendent'"
      ],
      "execution_count": 32,
      "outputs": []
    },
    {
      "cell_type": "code",
      "metadata": {
        "colab": {
          "base_uri": "https://localhost:8080/"
        },
        "id": "ukFq36ogZYDG",
        "outputId": "4d7a52c2-96a6-47fb-b9c9-78bb16ec3443"
      },
      "source": [
        "import MDAnalysis.analysis.encore as encore\n",
        "from MDAnalysis.analysis.encore.clustering import ClusteringMethod as clm\n",
        "\n",
        "ens2 = mda.Universe(PDB, XTC)\n",
        "\n",
        "# https://docs.mdanalysis.org/stable/documentation_pages/analysis/encore/clustering.html\n",
        "# Method\n",
        "km1 = clm.KMeans(2,  # no. clusters\n",
        "                 init = 'k-means++',  # default\n",
        "                 algorithm=\"auto\")\n",
        "\n",
        "# https://docs.mdanalysis.org/1.0.0/documentation_pages/analysis/encore/confdistmatrix.html\n",
        "# calculates the conformational distance (RMSD) matrix. \n",
        "# The distance matrix is calculated between all the frames of all the Universe objects given as input.\n",
        "rmsd_matrix = encore.get_distance_matrix(ens2)\n",
        "\n",
        "cluster_collection = encore.cluster(ens2, method=km1, distance_matrix=rmsd_matrix)\n",
        "cluster_collection.clusters"
      ],
      "execution_count": 114,
      "outputs": [
        {
          "output_type": "execute_result",
          "data": {
            "text/plain": [
              "[<Cluster with 5 elements, centroid=2, id=0>,\n",
              " <Cluster with 5 elements, centroid=7, id=1>]"
            ]
          },
          "metadata": {
            "tags": []
          },
          "execution_count": 114
        }
      ]
    },
    {
      "cell_type": "code",
      "metadata": {
        "colab": {
          "base_uri": "https://localhost:8080/"
        },
        "id": "JybjhzNykQEl",
        "outputId": "0d7d0ef5-4f32-4472-d81f-3b238047322e"
      },
      "source": [
        "cluster1 = cluster_collection.clusters[0]\n",
        "cluster1.elements # ids of MD frames"
      ],
      "execution_count": 118,
      "outputs": [
        {
          "output_type": "execute_result",
          "data": {
            "text/plain": [
              "array([0, 1, 2, 3, 4])"
            ]
          },
          "metadata": {
            "tags": []
          },
          "execution_count": 118
        }
      ]
    },
    {
      "cell_type": "code",
      "metadata": {
        "colab": {
          "base_uri": "https://localhost:8080/",
          "height": 288
        },
        "id": "xTbefx-Hke7P",
        "outputId": "b4c94f15-e089-4a31-ade0-708603f9de32"
      },
      "source": [
        "# We have centroids of clustes 2, 7\n",
        "new_df = df0[['acid', 'score2', 'score7']]\n",
        "new_df['sumScores'] = new_df['score2']+new_df['score7']\n",
        "new_df.head()"
      ],
      "execution_count": 125,
      "outputs": [
        {
          "output_type": "stream",
          "text": [
            "/usr/local/lib/python3.7/dist-packages/ipykernel_launcher.py:3: SettingWithCopyWarning: \n",
            "A value is trying to be set on a copy of a slice from a DataFrame.\n",
            "Try using .loc[row_indexer,col_indexer] = value instead\n",
            "\n",
            "See the caveats in the documentation: https://pandas.pydata.org/pandas-docs/stable/user_guide/indexing.html#returning-a-view-versus-a-copy\n",
            "  This is separate from the ipykernel package so we can avoid doing imports until\n"
          ],
          "name": "stderr"
        },
        {
          "output_type": "execute_result",
          "data": {
            "text/html": [
              "<div>\n",
              "<style scoped>\n",
              "    .dataframe tbody tr th:only-of-type {\n",
              "        vertical-align: middle;\n",
              "    }\n",
              "\n",
              "    .dataframe tbody tr th {\n",
              "        vertical-align: top;\n",
              "    }\n",
              "\n",
              "    .dataframe thead th {\n",
              "        text-align: right;\n",
              "    }\n",
              "</style>\n",
              "<table border=\"1\" class=\"dataframe\">\n",
              "  <thead>\n",
              "    <tr style=\"text-align: right;\">\n",
              "      <th></th>\n",
              "      <th>acid</th>\n",
              "      <th>score2</th>\n",
              "      <th>score7</th>\n",
              "      <th>sumScores</th>\n",
              "    </tr>\n",
              "  </thead>\n",
              "  <tbody>\n",
              "    <tr>\n",
              "      <th>0</th>\n",
              "      <td>ALA11</td>\n",
              "      <td>-0.528706</td>\n",
              "      <td>-0.54361</td>\n",
              "      <td>-1.072316</td>\n",
              "    </tr>\n",
              "    <tr>\n",
              "      <th>1</th>\n",
              "      <td>ALA127</td>\n",
              "      <td>-0.528706</td>\n",
              "      <td>-0.54361</td>\n",
              "      <td>-1.072316</td>\n",
              "    </tr>\n",
              "    <tr>\n",
              "      <th>2</th>\n",
              "      <td>ALA17</td>\n",
              "      <td>-0.528706</td>\n",
              "      <td>-0.54361</td>\n",
              "      <td>-1.072316</td>\n",
              "    </tr>\n",
              "    <tr>\n",
              "      <th>3</th>\n",
              "      <td>ALA176</td>\n",
              "      <td>-0.528706</td>\n",
              "      <td>-0.54361</td>\n",
              "      <td>-1.072316</td>\n",
              "    </tr>\n",
              "    <tr>\n",
              "      <th>4</th>\n",
              "      <td>ALA186</td>\n",
              "      <td>-0.254119</td>\n",
              "      <td>-0.54361</td>\n",
              "      <td>-0.797729</td>\n",
              "    </tr>\n",
              "  </tbody>\n",
              "</table>\n",
              "</div>"
            ],
            "text/plain": [
              "     acid    score2   score7  sumScores\n",
              "0   ALA11 -0.528706 -0.54361  -1.072316\n",
              "1  ALA127 -0.528706 -0.54361  -1.072316\n",
              "2   ALA17 -0.528706 -0.54361  -1.072316\n",
              "3  ALA176 -0.528706 -0.54361  -1.072316\n",
              "4  ALA186 -0.254119 -0.54361  -0.797729"
            ]
          },
          "metadata": {
            "tags": []
          },
          "execution_count": 125
        }
      ]
    },
    {
      "cell_type": "code",
      "metadata": {
        "colab": {
          "base_uri": "https://localhost:8080/",
          "height": 295
        },
        "id": "O28UC4SilK9s",
        "outputId": "fea29d10-455b-4705-aae2-eb3cf68bf555"
      },
      "source": [
        "new_df.plot('acid', 'sumScores')"
      ],
      "execution_count": 131,
      "outputs": [
        {
          "output_type": "execute_result",
          "data": {
            "text/plain": [
              "<matplotlib.axes._subplots.AxesSubplot at 0x7f724f561090>"
            ]
          },
          "metadata": {
            "tags": []
          },
          "execution_count": 131
        },
        {
          "output_type": "display_data",
          "data": {
            "image/png": "[encoded data removed]",
            "text/plain": [
              "<Figure size 432x288 with 1 Axes>"
            ]
          },
          "metadata": {
            "tags": [],
            "needs_background": "light"
          }
        }
      ]
    }
  ]
}
