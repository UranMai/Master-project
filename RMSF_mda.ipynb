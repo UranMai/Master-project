{
  "nbformat": 4,
  "nbformat_minor": 0,
  "metadata": {
    "colab": {
      "name": "RMSF_mda.ipynb",
      "provenance": []
    },
    "kernelspec": {
      "name": "python3",
      "display_name": "Python 3"
    }
  },
  "cells": [
    {
      "cell_type": "code",
      "metadata": {
        "id": "j9v3Y5OHqlek"
      },
      "source": [
        "!pip install --upgrade pip\n",
        "!pip install --upgrade MDAnalysis\n",
        "!pip install --upgrade MDAnalysisTests"
      ],
      "execution_count": null,
      "outputs": []
    },
    {
      "cell_type": "code",
      "metadata": {
        "id": "dNO-vTE3qofI"
      },
      "source": [
        "import numpy as np\n",
        "import seaborn as sns\n",
        "import matplotlib.pyplot as plt\n",
        "%matplotlib inline\n",
        "import MDAnalysis as mda\n",
        "import MDAnalysisTests as mds\n",
        "from MDAnalysis.tests.datafiles import PSF, DCD   # test trajectory\n",
        "\n",
        "from MDAnalysis.analysis import rms, align"
      ],
      "execution_count": 18,
      "outputs": []
    },
    {
      "cell_type": "code",
      "metadata": {
        "colab": {
          "base_uri": "https://localhost:8080/"
        },
        "id": "LI1tzygfrQjZ",
        "outputId": "c99fb612-8d1f-48f8-aae0-359ff50c0e3a"
      },
      "source": [
        "u = mda.Universe(PSF, DCD)\n",
        "u.select_atoms('protein')"
      ],
      "execution_count": 19,
      "outputs": [
        {
          "output_type": "execute_result",
          "data": {
            "text/plain": [
              "<AtomGroup with 3341 atoms>"
            ]
          },
          "metadata": {
            "tags": []
          },
          "execution_count": 19
        }
      ]
    },
    {
      "cell_type": "markdown",
      "metadata": {
        "id": "OtoY1wbetmQj"
      },
      "source": [
        "### To calculate RMSF need\n",
        "1. Calculate average structure as a reference `AverageStructure`\n",
        "2. Fit the whole trajectory to the reference `AlignTraj`"
      ]
    },
    {
      "cell_type": "code",
      "metadata": {
        "id": "lFlLmbEzrRiI"
      },
      "source": [
        "# https://docs.mdanalysis.org/1.0.0/_modules/MDAnalysis/analysis/align.html\n",
        "# Create an average structure and \n",
        "# align to the first frame, then average coordinates\n",
        "\n",
        "average = align.AverageStructure(u, u, select='protein', ref_frame=0).run()\n",
        "ref = average.universe \n",
        "\n",
        "# Align our traj to the reference structure\n",
        "aligner = align.AlignTraj(u, ref, select='protein', in_memory=True).run()\n",
        "\n",
        "atoms = u.select_atoms('protein')\n",
        "R = rms.RMSF(atoms).run()"
      ],
      "execution_count": null,
      "outputs": []
    },
    {
      "cell_type": "code",
      "metadata": {
        "colab": {
          "base_uri": "https://localhost:8080/",
          "height": 288
        },
        "id": "-ajjWxCJskhq",
        "outputId": "64cace10-f9a8-47e6-95b2-5f7c1d1d29db"
      },
      "source": [
        "ax = plt.subplot(111)\n",
        "ax.plot(atoms.atoms.ids, R.rmsf, 'r-', linewidth=1)\n",
        "ax.fill_between(atoms.atoms.ids, R.rmsf, color=\"red\", alpha=0.1)\n",
        "sns.despine(ax=ax, offset=10)\n",
        "ax.set_xlabel(\"atom number\")\n",
        "ax.set_ylabel(r\"RMSF ($\\AA$)\");"
      ],
      "execution_count": 21,
      "outputs": [
        {
          "output_type": "display_data",
          "data": {
            "image/png": "[encoded data removed]",
            "text/plain": [
              "<Figure size 432x288 with 1 Axes>"
            ]
          },
          "metadata": {
            "tags": [],
            "needs_background": "light"
          }
        }
      ]
    }
  ]
}